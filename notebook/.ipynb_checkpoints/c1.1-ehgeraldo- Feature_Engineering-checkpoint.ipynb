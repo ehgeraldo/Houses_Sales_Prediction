{
 "cells": [
  {
   "cell_type": "markdown",
   "id": "ba0e166e",
   "metadata": {},
   "source": [
    "# Planejamento da solução (IOT)"
   ]
  },
  {
   "cell_type": "markdown",
   "id": "693b65a4",
   "metadata": {},
   "source": [
    "# Input - Entrada "
   ]
  },
  {
   "cell_type": "markdown",
   "id": "60ee2b3e",
   "metadata": {},
   "source": [
    "## O problema de negócio\n",
    "\n",
    " 1. Criar um plano de estratégia para adquirir imóveis em ótimas localizações com preços baixos e atrativos para revender à preços mais altos; lucrando mais, maximizando a sua receita.."
   ]
  },
  {
   "cell_type": "markdown",
   "id": "6b87482b",
   "metadata": {},
   "source": [
    "# Output - Saída"
   ]
  },
  {
   "cell_type": "markdown",
   "id": "1a1b3ac1",
   "metadata": {},
   "source": [
    "Modelo de Análise para escolha de imóveis com caraterísticas que viabilizem melhor resultado na aquisição re revenda.\n",
    "\n",
    "1.0. Construção da análise estatística; construção de gráficos para melhor interpretaçaõ  e visualição.\n",
    "\n",
    "2.0. Painel de análise\n",
    "\n",
    "Input: https://www.kaggle.com/harlfoxem/housesalesprediction;\n",
    "\n",
    "Output: Construção da análise em python;\n"
   ]
  },
  {
   "cell_type": "markdown",
   "id": "2b59470e",
   "metadata": {},
   "source": [
    "This dataset contains house sale prices for King County, which includes Seattle. It includes homes sold between May 2014 and May 2015.\n",
    "\n",
    "It's a great dataset for evaluating simple regression models\n",
    "\n",
    "*- Compreensão do negócio e variáveis envolvidas (mapa mental).\n"
   ]
  },
  {
   "cell_type": "markdown",
   "id": "776534c6",
   "metadata": {},
   "source": [
    "# Imports"
   ]
  },
  {
   "cell_type": "code",
   "execution_count": 2,
   "id": "fadf85da",
   "metadata": {},
   "outputs": [],
   "source": [
    "# data manipulation\n",
    "import pandas as pd\n",
    "import numpy  as np \n",
    "\n",
    "import inflection\n",
    "import math\n",
    "import datetime\n",
    "\n",
    "# EDA\n",
    "import seaborn           as sns\n",
    "import matplotlib.pyplot as plt\n",
    "\n",
    "# Algorithms\n",
    "import xgboost as xgb\n",
    "import random\n",
    "import warnings\n",
    "warnings.filterwarnings ('ignore')\n",
    "\n",
    "from scipy                import stats  as ss \n",
    "from IPython.core.display import HTML\n",
    "from IPython.display      import Image\n"
   ]
  },
  {
   "cell_type": "markdown",
   "id": "ec4c74c4",
   "metadata": {},
   "source": [
    "## Helper Functions"
   ]
  },
  {
   "cell_type": "code",
   "execution_count": 3,
   "id": "d34001c1",
   "metadata": {},
   "outputs": [
    {
     "name": "stdout",
     "output_type": "stream",
     "text": [
      "%pylab is deprecated, use %matplotlib inline and import the required libraries.\n",
      "Populating the interactive namespace from numpy and matplotlib\n"
     ]
    },
    {
     "data": {
      "text/html": [
       "<style>.container { width:100% !important; }</style>"
      ],
      "text/plain": [
       "<IPython.core.display.HTML object>"
      ]
     },
     "metadata": {},
     "output_type": "display_data"
    }
   ],
   "source": [
    "def jupyter_settings():\n",
    "    %matplotlib inline\n",
    "    %pylab inline\n",
    "    plt.style.use( 'bmh' )\n",
    "    plt.rcParams['figure.figsize'] = [25, 12]\n",
    "    plt.rcParams['font.size'] = 24\n",
    "    display( HTML( '<style>.container { width:100% !important; }</style>') )\n",
    "    pd.options.display.max_columns = None\n",
    "    pd.options.display.max_rows = None\n",
    "    pd.set_option( 'display.expand_frame_repr', False )\n",
    "    sns.set()\n",
    "jupyter_settings()"
   ]
  },
  {
   "cell_type": "markdown",
   "id": "c1af8ba6",
   "metadata": {},
   "source": [
    "## Loading Data"
   ]
  },
  {
   "cell_type": "code",
   "execution_count": 4,
   "id": "64f1b192",
   "metadata": {},
   "outputs": [
    {
     "data": {
      "text/plain": [
       "'/home/ehgeraldo/repos/Houses_Sales_Prediction/notebook'"
      ]
     },
     "execution_count": 4,
     "metadata": {},
     "output_type": "execute_result"
    }
   ],
   "source": [
    "pwd"
   ]
  },
  {
   "cell_type": "code",
   "execution_count": 5,
   "id": "ffadd4aa",
   "metadata": {},
   "outputs": [
    {
     "name": "stdout",
     "output_type": "stream",
     "text": [
      "total 7804\r\n",
      "-rw-rw-r-- 1 ehgeraldo ehgeraldo  108802 feb  6 10:47  c0.0-ehgeraldo-planning.ipynb\r\n",
      "-rw-rw-r-- 1 ehgeraldo ehgeraldo  108802 feb  6 10:51 'c1.1-ehgeraldo- Map_Mental_Creation.ipynb'\r\n",
      "-rwxrwxr-x 1 ehgeraldo ehgeraldo 7768015 feb  6 09:58  \u001b[0m\u001b[01;32mjupyter_notebook.ipynb\u001b[0m*\r\n"
     ]
    }
   ],
   "source": [
    "ls -l"
   ]
  },
  {
   "cell_type": "code",
   "execution_count": 6,
   "id": "5adb1f09",
   "metadata": {},
   "outputs": [],
   "source": [
    "# Load data\n",
    "\n",
    "df_raw = pd.read_csv('/home/ehgeraldo/repos/Houses_Sales_Prediction/data/kc_house_data.csv')"
   ]
  },
  {
   "cell_type": "markdown",
   "id": "668b5e6d",
   "metadata": {},
   "source": [
    "# Data Description"
   ]
  },
  {
   "cell_type": "code",
   "execution_count": 7,
   "id": "7c47cf64",
   "metadata": {},
   "outputs": [],
   "source": [
    "df1 = df_raw.copy()"
   ]
  },
  {
   "cell_type": "code",
   "execution_count": 8,
   "id": "bf654d3c",
   "metadata": {},
   "outputs": [
    {
     "data": {
      "text/html": [
       "<div>\n",
       "<style scoped>\n",
       "    .dataframe tbody tr th:only-of-type {\n",
       "        vertical-align: middle;\n",
       "    }\n",
       "\n",
       "    .dataframe tbody tr th {\n",
       "        vertical-align: top;\n",
       "    }\n",
       "\n",
       "    .dataframe thead th {\n",
       "        text-align: right;\n",
       "    }\n",
       "</style>\n",
       "<table border=\"1\" class=\"dataframe\">\n",
       "  <thead>\n",
       "    <tr style=\"text-align: right;\">\n",
       "      <th></th>\n",
       "      <th>id</th>\n",
       "      <th>date</th>\n",
       "      <th>price</th>\n",
       "      <th>bedrooms</th>\n",
       "      <th>bathrooms</th>\n",
       "      <th>sqft_living</th>\n",
       "      <th>sqft_lot</th>\n",
       "      <th>floors</th>\n",
       "      <th>waterfront</th>\n",
       "      <th>view</th>\n",
       "      <th>condition</th>\n",
       "      <th>grade</th>\n",
       "      <th>sqft_above</th>\n",
       "      <th>sqft_basement</th>\n",
       "      <th>yr_built</th>\n",
       "      <th>yr_renovated</th>\n",
       "      <th>zipcode</th>\n",
       "      <th>lat</th>\n",
       "      <th>long</th>\n",
       "      <th>sqft_living15</th>\n",
       "      <th>sqft_lot15</th>\n",
       "    </tr>\n",
       "  </thead>\n",
       "  <tbody>\n",
       "    <tr>\n",
       "      <th>0</th>\n",
       "      <td>7129300520</td>\n",
       "      <td>20141013T000000</td>\n",
       "      <td>221900.0</td>\n",
       "      <td>3</td>\n",
       "      <td>1.00</td>\n",
       "      <td>1180</td>\n",
       "      <td>5650</td>\n",
       "      <td>1.0</td>\n",
       "      <td>0</td>\n",
       "      <td>0</td>\n",
       "      <td>3</td>\n",
       "      <td>7</td>\n",
       "      <td>1180</td>\n",
       "      <td>0</td>\n",
       "      <td>1955</td>\n",
       "      <td>0</td>\n",
       "      <td>98178</td>\n",
       "      <td>47.5112</td>\n",
       "      <td>-122.257</td>\n",
       "      <td>1340</td>\n",
       "      <td>5650</td>\n",
       "    </tr>\n",
       "    <tr>\n",
       "      <th>1</th>\n",
       "      <td>6414100192</td>\n",
       "      <td>20141209T000000</td>\n",
       "      <td>538000.0</td>\n",
       "      <td>3</td>\n",
       "      <td>2.25</td>\n",
       "      <td>2570</td>\n",
       "      <td>7242</td>\n",
       "      <td>2.0</td>\n",
       "      <td>0</td>\n",
       "      <td>0</td>\n",
       "      <td>3</td>\n",
       "      <td>7</td>\n",
       "      <td>2170</td>\n",
       "      <td>400</td>\n",
       "      <td>1951</td>\n",
       "      <td>1991</td>\n",
       "      <td>98125</td>\n",
       "      <td>47.7210</td>\n",
       "      <td>-122.319</td>\n",
       "      <td>1690</td>\n",
       "      <td>7639</td>\n",
       "    </tr>\n",
       "    <tr>\n",
       "      <th>2</th>\n",
       "      <td>5631500400</td>\n",
       "      <td>20150225T000000</td>\n",
       "      <td>180000.0</td>\n",
       "      <td>2</td>\n",
       "      <td>1.00</td>\n",
       "      <td>770</td>\n",
       "      <td>10000</td>\n",
       "      <td>1.0</td>\n",
       "      <td>0</td>\n",
       "      <td>0</td>\n",
       "      <td>3</td>\n",
       "      <td>6</td>\n",
       "      <td>770</td>\n",
       "      <td>0</td>\n",
       "      <td>1933</td>\n",
       "      <td>0</td>\n",
       "      <td>98028</td>\n",
       "      <td>47.7379</td>\n",
       "      <td>-122.233</td>\n",
       "      <td>2720</td>\n",
       "      <td>8062</td>\n",
       "    </tr>\n",
       "    <tr>\n",
       "      <th>3</th>\n",
       "      <td>2487200875</td>\n",
       "      <td>20141209T000000</td>\n",
       "      <td>604000.0</td>\n",
       "      <td>4</td>\n",
       "      <td>3.00</td>\n",
       "      <td>1960</td>\n",
       "      <td>5000</td>\n",
       "      <td>1.0</td>\n",
       "      <td>0</td>\n",
       "      <td>0</td>\n",
       "      <td>5</td>\n",
       "      <td>7</td>\n",
       "      <td>1050</td>\n",
       "      <td>910</td>\n",
       "      <td>1965</td>\n",
       "      <td>0</td>\n",
       "      <td>98136</td>\n",
       "      <td>47.5208</td>\n",
       "      <td>-122.393</td>\n",
       "      <td>1360</td>\n",
       "      <td>5000</td>\n",
       "    </tr>\n",
       "    <tr>\n",
       "      <th>4</th>\n",
       "      <td>1954400510</td>\n",
       "      <td>20150218T000000</td>\n",
       "      <td>510000.0</td>\n",
       "      <td>3</td>\n",
       "      <td>2.00</td>\n",
       "      <td>1680</td>\n",
       "      <td>8080</td>\n",
       "      <td>1.0</td>\n",
       "      <td>0</td>\n",
       "      <td>0</td>\n",
       "      <td>3</td>\n",
       "      <td>8</td>\n",
       "      <td>1680</td>\n",
       "      <td>0</td>\n",
       "      <td>1987</td>\n",
       "      <td>0</td>\n",
       "      <td>98074</td>\n",
       "      <td>47.6168</td>\n",
       "      <td>-122.045</td>\n",
       "      <td>1800</td>\n",
       "      <td>7503</td>\n",
       "    </tr>\n",
       "  </tbody>\n",
       "</table>\n",
       "</div>"
      ],
      "text/plain": [
       "           id             date     price  bedrooms  bathrooms  sqft_living  sqft_lot  floors  waterfront  view  condition  grade  sqft_above  sqft_basement  yr_built  yr_renovated  zipcode      lat     long  sqft_living15  sqft_lot15\n",
       "0  7129300520  20141013T000000  221900.0         3       1.00         1180      5650     1.0           0     0          3      7        1180              0      1955             0    98178  47.5112 -122.257           1340        5650\n",
       "1  6414100192  20141209T000000  538000.0         3       2.25         2570      7242     2.0           0     0          3      7        2170            400      1951          1991    98125  47.7210 -122.319           1690        7639\n",
       "2  5631500400  20150225T000000  180000.0         2       1.00          770     10000     1.0           0     0          3      6         770              0      1933             0    98028  47.7379 -122.233           2720        8062\n",
       "3  2487200875  20141209T000000  604000.0         4       3.00         1960      5000     1.0           0     0          5      7        1050            910      1965             0    98136  47.5208 -122.393           1360        5000\n",
       "4  1954400510  20150218T000000  510000.0         3       2.00         1680      8080     1.0           0     0          3      8        1680              0      1987             0    98074  47.6168 -122.045           1800        7503"
      ]
     },
     "execution_count": 8,
     "metadata": {},
     "output_type": "execute_result"
    }
   ],
   "source": [
    "df1.head()"
   ]
  },
  {
   "cell_type": "code",
   "execution_count": 9,
   "id": "340859af",
   "metadata": {},
   "outputs": [],
   "source": [
    "cols_old = ['id', 'date', 'price', 'bedrooms', 'bathrooms', 'sqft_living',\n",
    "       'sqft_lot', 'floors', 'waterfront', 'view', 'condition', 'grade',\n",
    "       'sqft_above', 'sqft_basement', 'yr_built', 'yr_renovated', 'zipcode',\n",
    "       'lat', 'long', 'sqft_living15', 'sqft_lot15']\n"
   ]
  },
  {
   "cell_type": "code",
   "execution_count": 10,
   "id": "9490ed06",
   "metadata": {},
   "outputs": [],
   "source": [
    "snakecase = lambda x: inflection.underscore( x )\n",
    "\n",
    "cols_new = list( map( snakecase, cols_old ) )\n",
    "\n",
    "#rename\n",
    "df1.colums = cols_new"
   ]
  },
  {
   "cell_type": "markdown",
   "id": "d8d268c4",
   "metadata": {},
   "source": [
    "### Data dimensions"
   ]
  },
  {
   "cell_type": "code",
   "execution_count": 11,
   "id": "f5dd45df",
   "metadata": {},
   "outputs": [
    {
     "name": "stdout",
     "output_type": "stream",
     "text": [
      "Number of rows:    21613\n",
      "Number of columns: 21\n"
     ]
    }
   ],
   "source": [
    "print( 'Number of rows:    {}'.format( df1.shape[0] ) )\n",
    "print( 'Number of columns: {}'.format( df1.shape[1] ) )"
   ]
  },
  {
   "cell_type": "markdown",
   "id": "2acf174e",
   "metadata": {},
   "source": [
    "### Data types"
   ]
  },
  {
   "cell_type": "code",
   "execution_count": 12,
   "id": "076ed283",
   "metadata": {},
   "outputs": [
    {
     "data": {
      "text/plain": [
       "id                 int64\n",
       "date              object\n",
       "price            float64\n",
       "bedrooms           int64\n",
       "bathrooms        float64\n",
       "sqft_living        int64\n",
       "sqft_lot           int64\n",
       "floors           float64\n",
       "waterfront         int64\n",
       "view               int64\n",
       "condition          int64\n",
       "grade              int64\n",
       "sqft_above         int64\n",
       "sqft_basement      int64\n",
       "yr_built           int64\n",
       "yr_renovated       int64\n",
       "zipcode            int64\n",
       "lat              float64\n",
       "long             float64\n",
       "sqft_living15      int64\n",
       "sqft_lot15         int64\n",
       "dtype: object"
      ]
     },
     "execution_count": 12,
     "metadata": {},
     "output_type": "execute_result"
    }
   ],
   "source": [
    "df1.dtypes"
   ]
  },
  {
   "cell_type": "code",
   "execution_count": 13,
   "id": "d30a8292",
   "metadata": {},
   "outputs": [
    {
     "data": {
      "text/plain": [
       "8371    20140609T000000\n",
       "9328    20141223T000000\n",
       "Name: date, dtype: object"
      ]
     },
     "execution_count": 13,
     "metadata": {},
     "output_type": "execute_result"
    }
   ],
   "source": [
    "df1['date'].sample(2)"
   ]
  },
  {
   "cell_type": "code",
   "execution_count": 14,
   "id": "7da60de7",
   "metadata": {},
   "outputs": [],
   "source": [
    "# change format date (object -> datetime)\n",
    "df1['date'] = pd.to_datetime(df1['date'])"
   ]
  },
  {
   "cell_type": "markdown",
   "id": "ff41acb0",
   "metadata": {},
   "source": [
    "### Check NAs"
   ]
  },
  {
   "cell_type": "code",
   "execution_count": 15,
   "id": "ff189431",
   "metadata": {},
   "outputs": [
    {
     "data": {
      "text/plain": [
       "id               0\n",
       "date             0\n",
       "price            0\n",
       "bedrooms         0\n",
       "bathrooms        0\n",
       "sqft_living      0\n",
       "sqft_lot         0\n",
       "floors           0\n",
       "waterfront       0\n",
       "view             0\n",
       "condition        0\n",
       "grade            0\n",
       "sqft_above       0\n",
       "sqft_basement    0\n",
       "yr_built         0\n",
       "yr_renovated     0\n",
       "zipcode          0\n",
       "lat              0\n",
       "long             0\n",
       "sqft_living15    0\n",
       "sqft_lot15       0\n",
       "dtype: int64"
      ]
     },
     "execution_count": 15,
     "metadata": {},
     "output_type": "execute_result"
    }
   ],
   "source": [
    "df1.isna().sum()"
   ]
  },
  {
   "cell_type": "markdown",
   "id": "92b901d8",
   "metadata": {},
   "source": [
    "## Descriptive Statiscal:"
   ]
  },
  {
   "cell_type": "code",
   "execution_count": 16,
   "id": "edd219b3",
   "metadata": {},
   "outputs": [],
   "source": [
    "num_attributes = df1.select_dtypes( include = ['int64', 'float64'] )\n",
    "cat_attributes = df1.select_dtypes( exclude = ['int64', 'float64', 'datetime64'])"
   ]
  },
  {
   "cell_type": "code",
   "execution_count": 17,
   "id": "e568b1ba",
   "metadata": {},
   "outputs": [
    {
     "data": {
      "text/html": [
       "<div>\n",
       "<style scoped>\n",
       "    .dataframe tbody tr th:only-of-type {\n",
       "        vertical-align: middle;\n",
       "    }\n",
       "\n",
       "    .dataframe tbody tr th {\n",
       "        vertical-align: top;\n",
       "    }\n",
       "\n",
       "    .dataframe thead th {\n",
       "        text-align: right;\n",
       "    }\n",
       "</style>\n",
       "<table border=\"1\" class=\"dataframe\">\n",
       "  <thead>\n",
       "    <tr style=\"text-align: right;\">\n",
       "      <th></th>\n",
       "      <th>id</th>\n",
       "      <th>price</th>\n",
       "      <th>bedrooms</th>\n",
       "      <th>bathrooms</th>\n",
       "      <th>sqft_living</th>\n",
       "      <th>sqft_lot</th>\n",
       "      <th>floors</th>\n",
       "      <th>waterfront</th>\n",
       "      <th>view</th>\n",
       "      <th>condition</th>\n",
       "      <th>grade</th>\n",
       "      <th>sqft_above</th>\n",
       "      <th>sqft_basement</th>\n",
       "      <th>yr_built</th>\n",
       "      <th>yr_renovated</th>\n",
       "      <th>zipcode</th>\n",
       "      <th>lat</th>\n",
       "      <th>long</th>\n",
       "      <th>sqft_living15</th>\n",
       "      <th>sqft_lot15</th>\n",
       "    </tr>\n",
       "  </thead>\n",
       "  <tbody>\n",
       "    <tr>\n",
       "      <th>17009</th>\n",
       "      <td>8944300010</td>\n",
       "      <td>230000.0</td>\n",
       "      <td>5</td>\n",
       "      <td>1.00</td>\n",
       "      <td>1410</td>\n",
       "      <td>9000</td>\n",
       "      <td>1.0</td>\n",
       "      <td>0</td>\n",
       "      <td>0</td>\n",
       "      <td>5</td>\n",
       "      <td>7</td>\n",
       "      <td>1410</td>\n",
       "      <td>0</td>\n",
       "      <td>1967</td>\n",
       "      <td>0</td>\n",
       "      <td>98023</td>\n",
       "      <td>47.3054</td>\n",
       "      <td>-122.369</td>\n",
       "      <td>1200</td>\n",
       "      <td>8346</td>\n",
       "    </tr>\n",
       "    <tr>\n",
       "      <th>18456</th>\n",
       "      <td>2372800100</td>\n",
       "      <td>245000.0</td>\n",
       "      <td>3</td>\n",
       "      <td>1.50</td>\n",
       "      <td>1550</td>\n",
       "      <td>9126</td>\n",
       "      <td>1.0</td>\n",
       "      <td>0</td>\n",
       "      <td>0</td>\n",
       "      <td>5</td>\n",
       "      <td>7</td>\n",
       "      <td>1550</td>\n",
       "      <td>0</td>\n",
       "      <td>1957</td>\n",
       "      <td>0</td>\n",
       "      <td>98022</td>\n",
       "      <td>47.2012</td>\n",
       "      <td>-122.000</td>\n",
       "      <td>1450</td>\n",
       "      <td>9282</td>\n",
       "    </tr>\n",
       "    <tr>\n",
       "      <th>14342</th>\n",
       "      <td>1781500155</td>\n",
       "      <td>445000.0</td>\n",
       "      <td>4</td>\n",
       "      <td>1.75</td>\n",
       "      <td>1990</td>\n",
       "      <td>4725</td>\n",
       "      <td>1.5</td>\n",
       "      <td>0</td>\n",
       "      <td>0</td>\n",
       "      <td>4</td>\n",
       "      <td>7</td>\n",
       "      <td>1190</td>\n",
       "      <td>800</td>\n",
       "      <td>1944</td>\n",
       "      <td>0</td>\n",
       "      <td>98126</td>\n",
       "      <td>47.5275</td>\n",
       "      <td>-122.380</td>\n",
       "      <td>1240</td>\n",
       "      <td>4961</td>\n",
       "    </tr>\n",
       "  </tbody>\n",
       "</table>\n",
       "</div>"
      ],
      "text/plain": [
       "               id     price  bedrooms  bathrooms  sqft_living  sqft_lot  floors  waterfront  view  condition  grade  sqft_above  sqft_basement  yr_built  yr_renovated  zipcode      lat     long  sqft_living15  sqft_lot15\n",
       "17009  8944300010  230000.0         5       1.00         1410      9000     1.0           0     0          5      7        1410              0      1967             0    98023  47.3054 -122.369           1200        8346\n",
       "18456  2372800100  245000.0         3       1.50         1550      9126     1.0           0     0          5      7        1550              0      1957             0    98022  47.2012 -122.000           1450        9282\n",
       "14342  1781500155  445000.0         4       1.75         1990      4725     1.5           0     0          4      7        1190            800      1944             0    98126  47.5275 -122.380           1240        4961"
      ]
     },
     "execution_count": 17,
     "metadata": {},
     "output_type": "execute_result"
    }
   ],
   "source": [
    "num_attributes.sample(3)"
   ]
  },
  {
   "cell_type": "code",
   "execution_count": 18,
   "id": "918d0551",
   "metadata": {},
   "outputs": [
    {
     "data": {
      "text/html": [
       "<div>\n",
       "<style scoped>\n",
       "    .dataframe tbody tr th:only-of-type {\n",
       "        vertical-align: middle;\n",
       "    }\n",
       "\n",
       "    .dataframe tbody tr th {\n",
       "        vertical-align: top;\n",
       "    }\n",
       "\n",
       "    .dataframe thead th {\n",
       "        text-align: right;\n",
       "    }\n",
       "</style>\n",
       "<table border=\"1\" class=\"dataframe\">\n",
       "  <thead>\n",
       "    <tr style=\"text-align: right;\">\n",
       "      <th></th>\n",
       "    </tr>\n",
       "  </thead>\n",
       "  <tbody>\n",
       "    <tr>\n",
       "      <th>10196</th>\n",
       "    </tr>\n",
       "    <tr>\n",
       "      <th>3043</th>\n",
       "    </tr>\n",
       "    <tr>\n",
       "      <th>897</th>\n",
       "    </tr>\n",
       "  </tbody>\n",
       "</table>\n",
       "</div>"
      ],
      "text/plain": [
       "Empty DataFrame\n",
       "Columns: []\n",
       "Index: [10196, 3043, 897]"
      ]
     },
     "execution_count": 18,
     "metadata": {},
     "output_type": "execute_result"
    }
   ],
   "source": [
    "cat_attributes.sample(3)"
   ]
  },
  {
   "cell_type": "markdown",
   "id": "95789f18",
   "metadata": {},
   "source": [
    "##  Numerical Atributes:"
   ]
  },
  {
   "cell_type": "code",
   "execution_count": 19,
   "id": "1db21c4a",
   "metadata": {},
   "outputs": [],
   "source": [
    "# Central Tendency - mean, mediana:\n",
    "\n",
    "ct1 = pd.DataFrame( num_attributes.apply(np.mean ) ).T\n",
    "ct2 = pd.DataFrame( num_attributes.apply(np.median ) ).T\n",
    "\n",
    "\n",
    "# Dispersion - std, min, max, range, skew, kurtosis:\n",
    "\n",
    "d1 = pd.DataFrame( num_attributes.apply( np.std ) ).T\n",
    "d2 = pd.DataFrame( num_attributes.apply( min ) ).T\n",
    "d3 = pd.DataFrame( num_attributes.apply( max ) ).T\n",
    "d4 = pd.DataFrame( num_attributes.apply( lambda x: x.max() - x.min() ) ).T\n",
    "d5 = pd.DataFrame( num_attributes.apply( lambda x: x.skew() ) ).T\n",
    "d6 = pd.DataFrame( num_attributes.apply( lambda x: x.kurtosis() ) ).T\n",
    "\n",
    "#Concatenate#\n",
    "m = pd.concat( [d2, d3, d4, ct1, ct2, d1, d5, d6] ).T.reset_index()\n",
    "m.columns = ['attributes', 'min', 'max', 'range', 'mean', 'median', 'std', 'skew', 'kurtosis']"
   ]
  },
  {
   "cell_type": "code",
   "execution_count": 20,
   "id": "b363e137",
   "metadata": {},
   "outputs": [
    {
     "data": {
      "text/html": [
       "<div>\n",
       "<style scoped>\n",
       "    .dataframe tbody tr th:only-of-type {\n",
       "        vertical-align: middle;\n",
       "    }\n",
       "\n",
       "    .dataframe tbody tr th {\n",
       "        vertical-align: top;\n",
       "    }\n",
       "\n",
       "    .dataframe thead th {\n",
       "        text-align: right;\n",
       "    }\n",
       "</style>\n",
       "<table border=\"1\" class=\"dataframe\">\n",
       "  <thead>\n",
       "    <tr style=\"text-align: right;\">\n",
       "      <th></th>\n",
       "      <th>attributes</th>\n",
       "      <th>min</th>\n",
       "      <th>max</th>\n",
       "      <th>range</th>\n",
       "      <th>mean</th>\n",
       "      <th>median</th>\n",
       "      <th>std</th>\n",
       "      <th>skew</th>\n",
       "      <th>kurtosis</th>\n",
       "    </tr>\n",
       "  </thead>\n",
       "  <tbody>\n",
       "    <tr>\n",
       "      <th>0</th>\n",
       "      <td>id</td>\n",
       "      <td>1.000102e+06</td>\n",
       "      <td>9.900000e+09</td>\n",
       "      <td>9.899000e+09</td>\n",
       "      <td>4.580302e+09</td>\n",
       "      <td>3.904930e+09</td>\n",
       "      <td>2.876499e+09</td>\n",
       "      <td>0.243329</td>\n",
       "      <td>-1.260542</td>\n",
       "    </tr>\n",
       "    <tr>\n",
       "      <th>1</th>\n",
       "      <td>price</td>\n",
       "      <td>7.500000e+04</td>\n",
       "      <td>7.700000e+06</td>\n",
       "      <td>7.625000e+06</td>\n",
       "      <td>5.400881e+05</td>\n",
       "      <td>4.500000e+05</td>\n",
       "      <td>3.671187e+05</td>\n",
       "      <td>4.024069</td>\n",
       "      <td>34.585540</td>\n",
       "    </tr>\n",
       "    <tr>\n",
       "      <th>2</th>\n",
       "      <td>bedrooms</td>\n",
       "      <td>0.000000e+00</td>\n",
       "      <td>3.300000e+01</td>\n",
       "      <td>3.300000e+01</td>\n",
       "      <td>3.370842e+00</td>\n",
       "      <td>3.000000e+00</td>\n",
       "      <td>9.300403e-01</td>\n",
       "      <td>1.974300</td>\n",
       "      <td>49.063653</td>\n",
       "    </tr>\n",
       "    <tr>\n",
       "      <th>3</th>\n",
       "      <td>bathrooms</td>\n",
       "      <td>0.000000e+00</td>\n",
       "      <td>8.000000e+00</td>\n",
       "      <td>8.000000e+00</td>\n",
       "      <td>2.114757e+00</td>\n",
       "      <td>2.250000e+00</td>\n",
       "      <td>7.701453e-01</td>\n",
       "      <td>0.511108</td>\n",
       "      <td>1.279902</td>\n",
       "    </tr>\n",
       "    <tr>\n",
       "      <th>4</th>\n",
       "      <td>sqft_living</td>\n",
       "      <td>2.900000e+02</td>\n",
       "      <td>1.354000e+04</td>\n",
       "      <td>1.325000e+04</td>\n",
       "      <td>2.079900e+03</td>\n",
       "      <td>1.910000e+03</td>\n",
       "      <td>9.184196e+02</td>\n",
       "      <td>1.471555</td>\n",
       "      <td>5.243093</td>\n",
       "    </tr>\n",
       "    <tr>\n",
       "      <th>5</th>\n",
       "      <td>sqft_lot</td>\n",
       "      <td>5.200000e+02</td>\n",
       "      <td>1.651359e+06</td>\n",
       "      <td>1.650839e+06</td>\n",
       "      <td>1.510697e+04</td>\n",
       "      <td>7.618000e+03</td>\n",
       "      <td>4.141955e+04</td>\n",
       "      <td>13.060019</td>\n",
       "      <td>285.077820</td>\n",
       "    </tr>\n",
       "    <tr>\n",
       "      <th>6</th>\n",
       "      <td>floors</td>\n",
       "      <td>1.000000e+00</td>\n",
       "      <td>3.500000e+00</td>\n",
       "      <td>2.500000e+00</td>\n",
       "      <td>1.494309e+00</td>\n",
       "      <td>1.500000e+00</td>\n",
       "      <td>5.399764e-01</td>\n",
       "      <td>0.616177</td>\n",
       "      <td>-0.484723</td>\n",
       "    </tr>\n",
       "    <tr>\n",
       "      <th>7</th>\n",
       "      <td>waterfront</td>\n",
       "      <td>0.000000e+00</td>\n",
       "      <td>1.000000e+00</td>\n",
       "      <td>1.000000e+00</td>\n",
       "      <td>7.541757e-03</td>\n",
       "      <td>0.000000e+00</td>\n",
       "      <td>8.651520e-02</td>\n",
       "      <td>11.385108</td>\n",
       "      <td>127.632494</td>\n",
       "    </tr>\n",
       "    <tr>\n",
       "      <th>8</th>\n",
       "      <td>view</td>\n",
       "      <td>0.000000e+00</td>\n",
       "      <td>4.000000e+00</td>\n",
       "      <td>4.000000e+00</td>\n",
       "      <td>2.343034e-01</td>\n",
       "      <td>0.000000e+00</td>\n",
       "      <td>7.662998e-01</td>\n",
       "      <td>3.395750</td>\n",
       "      <td>10.893022</td>\n",
       "    </tr>\n",
       "    <tr>\n",
       "      <th>9</th>\n",
       "      <td>condition</td>\n",
       "      <td>1.000000e+00</td>\n",
       "      <td>5.000000e+00</td>\n",
       "      <td>4.000000e+00</td>\n",
       "      <td>3.409430e+00</td>\n",
       "      <td>3.000000e+00</td>\n",
       "      <td>6.507280e-01</td>\n",
       "      <td>1.032805</td>\n",
       "      <td>0.525764</td>\n",
       "    </tr>\n",
       "    <tr>\n",
       "      <th>10</th>\n",
       "      <td>grade</td>\n",
       "      <td>1.000000e+00</td>\n",
       "      <td>1.300000e+01</td>\n",
       "      <td>1.200000e+01</td>\n",
       "      <td>7.656873e+00</td>\n",
       "      <td>7.000000e+00</td>\n",
       "      <td>1.175432e+00</td>\n",
       "      <td>0.771103</td>\n",
       "      <td>1.190932</td>\n",
       "    </tr>\n",
       "    <tr>\n",
       "      <th>11</th>\n",
       "      <td>sqft_above</td>\n",
       "      <td>2.900000e+02</td>\n",
       "      <td>9.410000e+03</td>\n",
       "      <td>9.120000e+03</td>\n",
       "      <td>1.788391e+03</td>\n",
       "      <td>1.560000e+03</td>\n",
       "      <td>8.280718e+02</td>\n",
       "      <td>1.446664</td>\n",
       "      <td>3.402304</td>\n",
       "    </tr>\n",
       "    <tr>\n",
       "      <th>12</th>\n",
       "      <td>sqft_basement</td>\n",
       "      <td>0.000000e+00</td>\n",
       "      <td>4.820000e+03</td>\n",
       "      <td>4.820000e+03</td>\n",
       "      <td>2.915090e+02</td>\n",
       "      <td>0.000000e+00</td>\n",
       "      <td>4.425648e+02</td>\n",
       "      <td>1.577965</td>\n",
       "      <td>2.715574</td>\n",
       "    </tr>\n",
       "    <tr>\n",
       "      <th>13</th>\n",
       "      <td>yr_built</td>\n",
       "      <td>1.900000e+03</td>\n",
       "      <td>2.015000e+03</td>\n",
       "      <td>1.150000e+02</td>\n",
       "      <td>1.971005e+03</td>\n",
       "      <td>1.975000e+03</td>\n",
       "      <td>2.937273e+01</td>\n",
       "      <td>-0.469805</td>\n",
       "      <td>-0.657408</td>\n",
       "    </tr>\n",
       "    <tr>\n",
       "      <th>14</th>\n",
       "      <td>yr_renovated</td>\n",
       "      <td>0.000000e+00</td>\n",
       "      <td>2.015000e+03</td>\n",
       "      <td>2.015000e+03</td>\n",
       "      <td>8.440226e+01</td>\n",
       "      <td>0.000000e+00</td>\n",
       "      <td>4.016699e+02</td>\n",
       "      <td>4.549493</td>\n",
       "      <td>18.701152</td>\n",
       "    </tr>\n",
       "    <tr>\n",
       "      <th>15</th>\n",
       "      <td>zipcode</td>\n",
       "      <td>9.800100e+04</td>\n",
       "      <td>9.819900e+04</td>\n",
       "      <td>1.980000e+02</td>\n",
       "      <td>9.807794e+04</td>\n",
       "      <td>9.806500e+04</td>\n",
       "      <td>5.350379e+01</td>\n",
       "      <td>0.405661</td>\n",
       "      <td>-0.853479</td>\n",
       "    </tr>\n",
       "    <tr>\n",
       "      <th>16</th>\n",
       "      <td>lat</td>\n",
       "      <td>4.715590e+01</td>\n",
       "      <td>4.777760e+01</td>\n",
       "      <td>6.217000e-01</td>\n",
       "      <td>4.756005e+01</td>\n",
       "      <td>4.757180e+01</td>\n",
       "      <td>1.385605e-01</td>\n",
       "      <td>-0.485270</td>\n",
       "      <td>-0.676313</td>\n",
       "    </tr>\n",
       "    <tr>\n",
       "      <th>17</th>\n",
       "      <td>long</td>\n",
       "      <td>-1.225190e+02</td>\n",
       "      <td>-1.213150e+02</td>\n",
       "      <td>1.204000e+00</td>\n",
       "      <td>-1.222139e+02</td>\n",
       "      <td>-1.222300e+02</td>\n",
       "      <td>1.408251e-01</td>\n",
       "      <td>0.885053</td>\n",
       "      <td>1.049501</td>\n",
       "    </tr>\n",
       "    <tr>\n",
       "      <th>18</th>\n",
       "      <td>sqft_living15</td>\n",
       "      <td>3.990000e+02</td>\n",
       "      <td>6.210000e+03</td>\n",
       "      <td>5.811000e+03</td>\n",
       "      <td>1.986552e+03</td>\n",
       "      <td>1.840000e+03</td>\n",
       "      <td>6.853754e+02</td>\n",
       "      <td>1.108181</td>\n",
       "      <td>1.597096</td>\n",
       "    </tr>\n",
       "    <tr>\n",
       "      <th>19</th>\n",
       "      <td>sqft_lot15</td>\n",
       "      <td>6.510000e+02</td>\n",
       "      <td>8.712000e+05</td>\n",
       "      <td>8.705490e+05</td>\n",
       "      <td>1.276846e+04</td>\n",
       "      <td>7.620000e+03</td>\n",
       "      <td>2.730355e+04</td>\n",
       "      <td>9.506743</td>\n",
       "      <td>150.763110</td>\n",
       "    </tr>\n",
       "  </tbody>\n",
       "</table>\n",
       "</div>"
      ],
      "text/plain": [
       "       attributes           min           max         range          mean        median           std       skew    kurtosis\n",
       "0              id  1.000102e+06  9.900000e+09  9.899000e+09  4.580302e+09  3.904930e+09  2.876499e+09   0.243329   -1.260542\n",
       "1           price  7.500000e+04  7.700000e+06  7.625000e+06  5.400881e+05  4.500000e+05  3.671187e+05   4.024069   34.585540\n",
       "2        bedrooms  0.000000e+00  3.300000e+01  3.300000e+01  3.370842e+00  3.000000e+00  9.300403e-01   1.974300   49.063653\n",
       "3       bathrooms  0.000000e+00  8.000000e+00  8.000000e+00  2.114757e+00  2.250000e+00  7.701453e-01   0.511108    1.279902\n",
       "4     sqft_living  2.900000e+02  1.354000e+04  1.325000e+04  2.079900e+03  1.910000e+03  9.184196e+02   1.471555    5.243093\n",
       "5        sqft_lot  5.200000e+02  1.651359e+06  1.650839e+06  1.510697e+04  7.618000e+03  4.141955e+04  13.060019  285.077820\n",
       "6          floors  1.000000e+00  3.500000e+00  2.500000e+00  1.494309e+00  1.500000e+00  5.399764e-01   0.616177   -0.484723\n",
       "7      waterfront  0.000000e+00  1.000000e+00  1.000000e+00  7.541757e-03  0.000000e+00  8.651520e-02  11.385108  127.632494\n",
       "8            view  0.000000e+00  4.000000e+00  4.000000e+00  2.343034e-01  0.000000e+00  7.662998e-01   3.395750   10.893022\n",
       "9       condition  1.000000e+00  5.000000e+00  4.000000e+00  3.409430e+00  3.000000e+00  6.507280e-01   1.032805    0.525764\n",
       "10          grade  1.000000e+00  1.300000e+01  1.200000e+01  7.656873e+00  7.000000e+00  1.175432e+00   0.771103    1.190932\n",
       "11     sqft_above  2.900000e+02  9.410000e+03  9.120000e+03  1.788391e+03  1.560000e+03  8.280718e+02   1.446664    3.402304\n",
       "12  sqft_basement  0.000000e+00  4.820000e+03  4.820000e+03  2.915090e+02  0.000000e+00  4.425648e+02   1.577965    2.715574\n",
       "13       yr_built  1.900000e+03  2.015000e+03  1.150000e+02  1.971005e+03  1.975000e+03  2.937273e+01  -0.469805   -0.657408\n",
       "14   yr_renovated  0.000000e+00  2.015000e+03  2.015000e+03  8.440226e+01  0.000000e+00  4.016699e+02   4.549493   18.701152\n",
       "15        zipcode  9.800100e+04  9.819900e+04  1.980000e+02  9.807794e+04  9.806500e+04  5.350379e+01   0.405661   -0.853479\n",
       "16            lat  4.715590e+01  4.777760e+01  6.217000e-01  4.756005e+01  4.757180e+01  1.385605e-01  -0.485270   -0.676313\n",
       "17           long -1.225190e+02 -1.213150e+02  1.204000e+00 -1.222139e+02 -1.222300e+02  1.408251e-01   0.885053    1.049501\n",
       "18  sqft_living15  3.990000e+02  6.210000e+03  5.811000e+03  1.986552e+03  1.840000e+03  6.853754e+02   1.108181    1.597096\n",
       "19     sqft_lot15  6.510000e+02  8.712000e+05  8.705490e+05  1.276846e+04  7.620000e+03  2.730355e+04   9.506743  150.763110"
      ]
     },
     "execution_count": 20,
     "metadata": {},
     "output_type": "execute_result"
    }
   ],
   "source": [
    "m"
   ]
  },
  {
   "cell_type": "code",
   "execution_count": 21,
   "id": "ad947ecc",
   "metadata": {},
   "outputs": [
    {
     "data": {
      "text/plain": [
       "<AxesSubplot:xlabel='price', ylabel='Density'>"
      ]
     },
     "execution_count": 21,
     "metadata": {},
     "output_type": "execute_result"
    },
    {
     "data": {
      "image/png": "[encoded data removed]",
      "text/plain": [
       "<Figure size 2500x1200 with 1 Axes>"
      ]
     },
     "metadata": {},
     "output_type": "display_data"
    }
   ],
   "source": [
    "# Price attribute dispersion\n",
    "\n",
    "# Age attribute dispersion\n",
    "\n",
    "sns.distplot(df1['price'])"
   ]
  },
  {
   "cell_type": "markdown",
   "id": "c9172ac3",
   "metadata": {},
   "source": [
    "## Categorical Attibutes:"
   ]
  },
  {
   "cell_type": "code",
   "execution_count": 22,
   "id": "0963d8e5",
   "metadata": {},
   "outputs": [
    {
     "data": {
      "text/plain": [
       "Series([], dtype: float64)"
      ]
     },
     "execution_count": 22,
     "metadata": {},
     "output_type": "execute_result"
    }
   ],
   "source": [
    "cat_attributes.apply( lambda x: x.unique().shape[0] )"
   ]
  },
  {
   "cell_type": "code",
   "execution_count": 23,
   "id": "661d74cd",
   "metadata": {},
   "outputs": [
    {
     "data": {
      "text/plain": [
       "Timestamp('2014-05-02 00:00:00')"
      ]
     },
     "execution_count": 23,
     "metadata": {},
     "output_type": "execute_result"
    }
   ],
   "source": [
    "df1['date'].min()"
   ]
  },
  {
   "cell_type": "code",
   "execution_count": 24,
   "id": "de7638be",
   "metadata": {},
   "outputs": [
    {
     "data": {
      "text/plain": [
       "Timestamp('2015-05-27 00:00:00')"
      ]
     },
     "execution_count": 24,
     "metadata": {},
     "output_type": "execute_result"
    }
   ],
   "source": [
    "df1['date'].max()"
   ]
  },
  {
   "cell_type": "code",
   "execution_count": 25,
   "id": "c6aa84cd",
   "metadata": {},
   "outputs": [
    {
     "data": {
      "text/plain": [
       "id                        int64\n",
       "date             datetime64[ns]\n",
       "price                   float64\n",
       "bedrooms                  int64\n",
       "bathrooms               float64\n",
       "sqft_living               int64\n",
       "sqft_lot                  int64\n",
       "floors                  float64\n",
       "waterfront                int64\n",
       "view                      int64\n",
       "condition                 int64\n",
       "grade                     int64\n",
       "sqft_above                int64\n",
       "sqft_basement             int64\n",
       "yr_built                  int64\n",
       "yr_renovated              int64\n",
       "zipcode                   int64\n",
       "lat                     float64\n",
       "long                    float64\n",
       "sqft_living15             int64\n",
       "sqft_lot15                int64\n",
       "dtype: object"
      ]
     },
     "execution_count": 25,
     "metadata": {},
     "output_type": "execute_result"
    }
   ],
   "source": [
    "df1.dtypes"
   ]
  },
  {
   "cell_type": "markdown",
   "id": "c667e348",
   "metadata": {},
   "source": [
    "# Feature engineering"
   ]
  },
  {
   "cell_type": "code",
   "execution_count": 48,
   "id": "7c912096",
   "metadata": {},
   "outputs": [],
   "source": [
    "df2 = df1.copy()"
   ]
  },
  {
   "cell_type": "markdown",
   "id": "a78f4666",
   "metadata": {},
   "source": [
    "## MAPA MENTAL ''house_sales_prediction''"
   ]
  },
  {
   "cell_type": "code",
   "execution_count": 28,
   "id": "bd10e6fc",
   "metadata": {},
   "outputs": [
    {
     "data": {
      "text/plain": [
       "'/home/ehgeraldo/repos/Houses_Sales_Prediction/notebook'"
      ]
     },
     "execution_count": 28,
     "metadata": {},
     "output_type": "execute_result"
    }
   ],
   "source": [
    "pwd"
   ]
  },
  {
   "cell_type": "code",
   "execution_count": 29,
   "id": "da59f94b",
   "metadata": {},
   "outputs": [
    {
     "name": "stdout",
     "output_type": "stream",
     "text": [
      "/home/ehgeraldo/repos/Houses_Sales_Prediction\n"
     ]
    }
   ],
   "source": [
    "cd .."
   ]
  },
  {
   "cell_type": "code",
   "execution_count": 30,
   "id": "ce2faff1",
   "metadata": {},
   "outputs": [
    {
     "name": "stdout",
     "output_type": "stream",
     "text": [
      "total 16\r\n",
      "drwxrwxr-x 2 ehgeraldo ehgeraldo 4096 feb  6 09:55 \u001b[0m\u001b[01;34mdata\u001b[0m/\r\n",
      "drwxrwxr-x 2 ehgeraldo ehgeraldo 4096 feb  6 09:55 \u001b[01;34mimages\u001b[0m/\r\n",
      "drwxrwxr-x 3 ehgeraldo ehgeraldo 4096 feb  6 10:53 \u001b[01;34mnotebook\u001b[0m/\r\n",
      "-rw-rw-r-- 1 ehgeraldo ehgeraldo   25 feb  6 09:54 README.md\r\n"
     ]
    }
   ],
   "source": [
    "ls -l"
   ]
  },
  {
   "cell_type": "code",
   "execution_count": 31,
   "id": "fb4eb02e",
   "metadata": {},
   "outputs": [
    {
     "name": "stdout",
     "output_type": "stream",
     "text": [
      "/home/ehgeraldo/repos/Houses_Sales_Prediction/images\n"
     ]
    }
   ],
   "source": [
    "cd images"
   ]
  },
  {
   "cell_type": "code",
   "execution_count": 32,
   "id": "185e29a9",
   "metadata": {},
   "outputs": [
    {
     "name": "stdout",
     "output_type": "stream",
     "text": [
      "total 204\r\n",
      "-rw-rw-r-- 1 ehgeraldo ehgeraldo  51607 feb  6 09:54 \u001b[0m\u001b[01;35mimages.jpeg\u001b[0m\r\n",
      "-rwxrwxr-x 1 ehgeraldo ehgeraldo  53156 feb  6 09:54 \u001b[01;32mkc_house_predictions_ciclos.jpg\u001b[0m*\r\n",
      "-rwxrwxr-x 1 ehgeraldo ehgeraldo 100385 feb  6 09:54 \u001b[01;32mkc_house_predictions_cogglemaps.png\u001b[0m*\r\n"
     ]
    }
   ],
   "source": [
    "ls -l"
   ]
  },
  {
   "cell_type": "code",
   "execution_count": 33,
   "id": "b9996ee2",
   "metadata": {},
   "outputs": [
    {
     "data": {
      "image/png": "[encoded data removed]",
      "text/plain": [
       "<IPython.core.display.Image object>"
      ]
     },
     "execution_count": 33,
     "metadata": {},
     "output_type": "execute_result"
    }
   ],
   "source": [
    "from IPython.display import Image\n",
    "\n",
    "Image( 'kc_house_predictions_cogglemaps.png' )"
   ]
  },
  {
   "cell_type": "markdown",
   "id": "e859f5e1",
   "metadata": {},
   "source": [
    "# Create New Features"
   ]
  },
  {
   "cell_type": "markdown",
   "id": "56e9d35a",
   "metadata": {},
   "source": [
    "Considerando o dataset:\n",
    "\n",
    "## 1) Imóveis nas regiões centrais da cidade têm maior valor?\n",
    "\n",
    "## 2) Imóveis maiores têm maior valor de venda?\n",
    "\n",
    "## 3) Imóveis com mais cômodos têm maior valor?\n",
    "\n",
    "## 4) Imóveis menores com melhor localização são os mais procurados?\n",
    "\n",
    "## 5) Imóveis menores e mais compactos são mais atuais e mais procurados?"
   ]
  },
  {
   "cell_type": "code",
   "execution_count": 35,
   "id": "819faf78",
   "metadata": {},
   "outputs": [
    {
     "data": {
      "text/plain": [
       "Index(['id', 'date', 'price', 'bedrooms', 'bathrooms', 'sqft_living',\n",
       "       'sqft_lot', 'floors', 'waterfront', 'view', 'condition', 'grade',\n",
       "       'sqft_above', 'sqft_basement', 'yr_built', 'yr_renovated', 'zipcode',\n",
       "       'lat', 'long', 'sqft_living15', 'sqft_lot15'],\n",
       "      dtype='object')"
      ]
     },
     "execution_count": 35,
     "metadata": {},
     "output_type": "execute_result"
    }
   ],
   "source": [
    "df2.columns"
   ]
  },
  {
   "cell_type": "markdown",
   "id": "fefcaab9",
   "metadata": {},
   "source": [
    "# Time as reference to Creating New Features"
   ]
  },
  {
   "cell_type": "code",
   "execution_count": 49,
   "id": "cd35d695",
   "metadata": {},
   "outputs": [],
   "source": [
    "# derivated date to date (year)\n",
    "\n",
    "df2['year'] = df2['date'].dt.year\n",
    "\n",
    "# derivated date to date (month)\n",
    "\n",
    "df2['month'] = df2['date'].dt.month\n",
    "\n",
    "# derivated date to date (day)\n",
    "\n",
    "df2['day'] = df2['date'].dt.day\n",
    "\n",
    "# derivated date to date (year week)\n",
    "df2['year_week'] = df2['date'].dt.strftime('%Y-%W')"
   ]
  },
  {
   "cell_type": "code",
   "execution_count": 50,
   "id": "9831492f",
   "metadata": {},
   "outputs": [
    {
     "data": {
      "text/html": [
       "<div>\n",
       "<style scoped>\n",
       "    .dataframe tbody tr th:only-of-type {\n",
       "        vertical-align: middle;\n",
       "    }\n",
       "\n",
       "    .dataframe tbody tr th {\n",
       "        vertical-align: top;\n",
       "    }\n",
       "\n",
       "    .dataframe thead th {\n",
       "        text-align: right;\n",
       "    }\n",
       "</style>\n",
       "<table border=\"1\" class=\"dataframe\">\n",
       "  <thead>\n",
       "    <tr style=\"text-align: right;\">\n",
       "      <th></th>\n",
       "      <th>0</th>\n",
       "      <th>1</th>\n",
       "      <th>2</th>\n",
       "      <th>3</th>\n",
       "      <th>4</th>\n",
       "    </tr>\n",
       "  </thead>\n",
       "  <tbody>\n",
       "    <tr>\n",
       "      <th>id</th>\n",
       "      <td>7129300520</td>\n",
       "      <td>6414100192</td>\n",
       "      <td>5631500400</td>\n",
       "      <td>2487200875</td>\n",
       "      <td>1954400510</td>\n",
       "    </tr>\n",
       "    <tr>\n",
       "      <th>date</th>\n",
       "      <td>2014-10-13 00:00:00</td>\n",
       "      <td>2014-12-09 00:00:00</td>\n",
       "      <td>2015-02-25 00:00:00</td>\n",
       "      <td>2014-12-09 00:00:00</td>\n",
       "      <td>2015-02-18 00:00:00</td>\n",
       "    </tr>\n",
       "    <tr>\n",
       "      <th>price</th>\n",
       "      <td>221900.0</td>\n",
       "      <td>538000.0</td>\n",
       "      <td>180000.0</td>\n",
       "      <td>604000.0</td>\n",
       "      <td>510000.0</td>\n",
       "    </tr>\n",
       "    <tr>\n",
       "      <th>bedrooms</th>\n",
       "      <td>3</td>\n",
       "      <td>3</td>\n",
       "      <td>2</td>\n",
       "      <td>4</td>\n",
       "      <td>3</td>\n",
       "    </tr>\n",
       "    <tr>\n",
       "      <th>bathrooms</th>\n",
       "      <td>1.0</td>\n",
       "      <td>2.25</td>\n",
       "      <td>1.0</td>\n",
       "      <td>3.0</td>\n",
       "      <td>2.0</td>\n",
       "    </tr>\n",
       "    <tr>\n",
       "      <th>sqft_living</th>\n",
       "      <td>1180</td>\n",
       "      <td>2570</td>\n",
       "      <td>770</td>\n",
       "      <td>1960</td>\n",
       "      <td>1680</td>\n",
       "    </tr>\n",
       "    <tr>\n",
       "      <th>sqft_lot</th>\n",
       "      <td>5650</td>\n",
       "      <td>7242</td>\n",
       "      <td>10000</td>\n",
       "      <td>5000</td>\n",
       "      <td>8080</td>\n",
       "    </tr>\n",
       "    <tr>\n",
       "      <th>floors</th>\n",
       "      <td>1.0</td>\n",
       "      <td>2.0</td>\n",
       "      <td>1.0</td>\n",
       "      <td>1.0</td>\n",
       "      <td>1.0</td>\n",
       "    </tr>\n",
       "    <tr>\n",
       "      <th>waterfront</th>\n",
       "      <td>0</td>\n",
       "      <td>0</td>\n",
       "      <td>0</td>\n",
       "      <td>0</td>\n",
       "      <td>0</td>\n",
       "    </tr>\n",
       "    <tr>\n",
       "      <th>view</th>\n",
       "      <td>0</td>\n",
       "      <td>0</td>\n",
       "      <td>0</td>\n",
       "      <td>0</td>\n",
       "      <td>0</td>\n",
       "    </tr>\n",
       "    <tr>\n",
       "      <th>condition</th>\n",
       "      <td>3</td>\n",
       "      <td>3</td>\n",
       "      <td>3</td>\n",
       "      <td>5</td>\n",
       "      <td>3</td>\n",
       "    </tr>\n",
       "    <tr>\n",
       "      <th>grade</th>\n",
       "      <td>7</td>\n",
       "      <td>7</td>\n",
       "      <td>6</td>\n",
       "      <td>7</td>\n",
       "      <td>8</td>\n",
       "    </tr>\n",
       "    <tr>\n",
       "      <th>sqft_above</th>\n",
       "      <td>1180</td>\n",
       "      <td>2170</td>\n",
       "      <td>770</td>\n",
       "      <td>1050</td>\n",
       "      <td>1680</td>\n",
       "    </tr>\n",
       "    <tr>\n",
       "      <th>sqft_basement</th>\n",
       "      <td>0</td>\n",
       "      <td>400</td>\n",
       "      <td>0</td>\n",
       "      <td>910</td>\n",
       "      <td>0</td>\n",
       "    </tr>\n",
       "    <tr>\n",
       "      <th>yr_built</th>\n",
       "      <td>1955</td>\n",
       "      <td>1951</td>\n",
       "      <td>1933</td>\n",
       "      <td>1965</td>\n",
       "      <td>1987</td>\n",
       "    </tr>\n",
       "    <tr>\n",
       "      <th>yr_renovated</th>\n",
       "      <td>0</td>\n",
       "      <td>1991</td>\n",
       "      <td>0</td>\n",
       "      <td>0</td>\n",
       "      <td>0</td>\n",
       "    </tr>\n",
       "    <tr>\n",
       "      <th>zipcode</th>\n",
       "      <td>98178</td>\n",
       "      <td>98125</td>\n",
       "      <td>98028</td>\n",
       "      <td>98136</td>\n",
       "      <td>98074</td>\n",
       "    </tr>\n",
       "    <tr>\n",
       "      <th>lat</th>\n",
       "      <td>47.5112</td>\n",
       "      <td>47.721</td>\n",
       "      <td>47.7379</td>\n",
       "      <td>47.5208</td>\n",
       "      <td>47.6168</td>\n",
       "    </tr>\n",
       "    <tr>\n",
       "      <th>long</th>\n",
       "      <td>-122.257</td>\n",
       "      <td>-122.319</td>\n",
       "      <td>-122.233</td>\n",
       "      <td>-122.393</td>\n",
       "      <td>-122.045</td>\n",
       "    </tr>\n",
       "    <tr>\n",
       "      <th>sqft_living15</th>\n",
       "      <td>1340</td>\n",
       "      <td>1690</td>\n",
       "      <td>2720</td>\n",
       "      <td>1360</td>\n",
       "      <td>1800</td>\n",
       "    </tr>\n",
       "    <tr>\n",
       "      <th>sqft_lot15</th>\n",
       "      <td>5650</td>\n",
       "      <td>7639</td>\n",
       "      <td>8062</td>\n",
       "      <td>5000</td>\n",
       "      <td>7503</td>\n",
       "    </tr>\n",
       "    <tr>\n",
       "      <th>year</th>\n",
       "      <td>2014</td>\n",
       "      <td>2014</td>\n",
       "      <td>2015</td>\n",
       "      <td>2014</td>\n",
       "      <td>2015</td>\n",
       "    </tr>\n",
       "    <tr>\n",
       "      <th>month</th>\n",
       "      <td>10</td>\n",
       "      <td>12</td>\n",
       "      <td>2</td>\n",
       "      <td>12</td>\n",
       "      <td>2</td>\n",
       "    </tr>\n",
       "    <tr>\n",
       "      <th>day</th>\n",
       "      <td>13</td>\n",
       "      <td>9</td>\n",
       "      <td>25</td>\n",
       "      <td>9</td>\n",
       "      <td>18</td>\n",
       "    </tr>\n",
       "    <tr>\n",
       "      <th>year_week</th>\n",
       "      <td>2014-41</td>\n",
       "      <td>2014-49</td>\n",
       "      <td>2015-08</td>\n",
       "      <td>2014-49</td>\n",
       "      <td>2015-07</td>\n",
       "    </tr>\n",
       "  </tbody>\n",
       "</table>\n",
       "</div>"
      ],
      "text/plain": [
       "                                 0                    1                    2                    3                    4\n",
       "id                      7129300520           6414100192           5631500400           2487200875           1954400510\n",
       "date           2014-10-13 00:00:00  2014-12-09 00:00:00  2015-02-25 00:00:00  2014-12-09 00:00:00  2015-02-18 00:00:00\n",
       "price                     221900.0             538000.0             180000.0             604000.0             510000.0\n",
       "bedrooms                         3                    3                    2                    4                    3\n",
       "bathrooms                      1.0                 2.25                  1.0                  3.0                  2.0\n",
       "sqft_living                   1180                 2570                  770                 1960                 1680\n",
       "sqft_lot                      5650                 7242                10000                 5000                 8080\n",
       "floors                         1.0                  2.0                  1.0                  1.0                  1.0\n",
       "waterfront                       0                    0                    0                    0                    0\n",
       "view                             0                    0                    0                    0                    0\n",
       "condition                        3                    3                    3                    5                    3\n",
       "grade                            7                    7                    6                    7                    8\n",
       "sqft_above                    1180                 2170                  770                 1050                 1680\n",
       "sqft_basement                    0                  400                    0                  910                    0\n",
       "yr_built                      1955                 1951                 1933                 1965                 1987\n",
       "yr_renovated                     0                 1991                    0                    0                    0\n",
       "zipcode                      98178                98125                98028                98136                98074\n",
       "lat                        47.5112               47.721              47.7379              47.5208              47.6168\n",
       "long                      -122.257             -122.319             -122.233             -122.393             -122.045\n",
       "sqft_living15                 1340                 1690                 2720                 1360                 1800\n",
       "sqft_lot15                    5650                 7639                 8062                 5000                 7503\n",
       "year                          2014                 2014                 2015                 2014                 2015\n",
       "month                           10                   12                    2                   12                    2\n",
       "day                             13                    9                   25                    9                   18\n",
       "year_week                  2014-41              2014-49              2015-08              2014-49              2015-07"
      ]
     },
     "execution_count": 50,
     "metadata": {},
     "output_type": "execute_result"
    }
   ],
   "source": [
    "df2.head().T"
   ]
  },
  {
   "cell_type": "code",
   "execution_count": null,
   "id": "5da6fbc8",
   "metadata": {},
   "outputs": [],
   "source": []
  },
  {
   "cell_type": "code",
   "execution_count": null,
   "id": "b7664c00",
   "metadata": {},
   "outputs": [],
   "source": []
  },
  {
   "cell_type": "code",
   "execution_count": null,
   "id": "383e3570",
   "metadata": {},
   "outputs": [],
   "source": []
  }
 ],
 "metadata": {
  "kernelspec": {
   "display_name": "Python 3 (ipykernel)",
   "language": "python",
   "name": "python3"
  },
  "language_info": {
   "codemirror_mode": {
    "name": "ipython",
    "version": 3
   },
   "file_extension": ".py",
   "mimetype": "text/x-python",
   "name": "python",
   "nbconvert_exporter": "python",
   "pygments_lexer": "ipython3",
   "version": "3.10.6"
  }
 },
 "nbformat": 4,
 "nbformat_minor": 5
}
